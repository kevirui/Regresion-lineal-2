{
  "nbformat": 4,
  "nbformat_minor": 0,
  "metadata": {
    "kernelspec": {
      "display_name": "Python 3",
      "language": "python",
      "name": "python3"
    },
    "language_info": {
      "codemirror_mode": {
        "name": "ipython",
        "version": 3
      },
      "file_extension": ".py",
      "mimetype": "text/x-python",
      "name": "python",
      "nbconvert_exporter": "python",
      "pygments_lexer": "ipython3",
      "version": "3.7.0"
    },
    "colab": {
      "name": "Regresión_Lineal_II.ipynb",
      "provenance": []
    }
  },
  "cells": [
    {
      "cell_type": "markdown",
      "metadata": {
        "id": "DHLRlGM8FlHe"
      },
      "source": [
        "<h1 style='color: green; font-size: 36px; font-weight: bold;'>Data Science - Regresión Lineal II</h1>"
      ]
    },
    {
      "cell_type": "markdown",
      "metadata": {
        "id": "_ScLG3rnFlH1"
      },
      "source": [
        "# <font color='red' style='font-size: 30px;'>1.2 Conociendo el Dataset</font>\n",
        "<hr style='border: 2px solid red;'>"
      ]
    },
    {
      "cell_type": "markdown",
      "metadata": {
        "id": "pkxSOWr7FlH3"
      },
      "source": [
        "## Importando la biblioteca pandas\n",
        "\n",
        "https://pandas.pydata.org/"
      ]
    },
    {
      "cell_type": "code",
      "metadata": {
        "id": "9AzjcI6rFlH4"
      },
      "source": [
        "import pandas as pd"
      ],
      "execution_count": 1,
      "outputs": []
    },
    {
      "cell_type": "markdown",
      "metadata": {
        "id": "rCJTk0RrFlH6"
      },
      "source": [
        "## El Dataset y el Proyecto\n",
        "<hr>\n",
        "\n",
        "### Descripción:\n",
        "<p style='font-size: 18px; line-height: 2; margin: 10px 50px; text-align: justify; text-indent: 35px;'>El mercado inmobiliario ha sido objeto de varios estudios e investigaciones en los últimos tiempos. La crisis financiera que afecta a la economía ha afectado significativamente las inversiones y ganancias de este sector. Este escenario fomenta un mayor interés en los estudios de previsión de la demanda basados ​​en las características de este mercado, los inmuebles y el entorno de estos inmuebles.</p>\n",
        "\n",
        "<p style='font-size: 18px; line-height: 2; margin: 10px 50px; text-align: justify; text-indent: 35px;'>En este contexto, el principal objetivo de nuestro proyecto es desarrollar un sistema de valuación inmobiliaria utilizando la metodología de regresión lineal, que es una de las técnicas de Machine Learning.</p>\n",
        "\n",
        "<p style='font-size: 18px; line-height: 2; margin: 10px 50px; text-align: justify; text-indent: 35px;'>Nuestro *dataset* es una muestra aleatoria de 5000 inmuebles disponibles para la venta en el municipio de Rio de Janeiro.</p>\n",
        "\n",
        "### Datos:\n",
        "<ul style='font-size: 18px; line-height: 2; text-align: justify;'>\n",
        "    <li><b>Valor</b> - Valor (US$) de oferta del inmueble</li>\n",
        "    <li><b>Área</b> - Área del inmueble en m²</li>\n",
        "    <li><b>Dist_Playa</b> - Distancia del inmueble a la playa (km) (en línea recta)</li>\n",
        "    <li><b>Dist_Farmacia</b> - Distancia del inmueble a la farmacia más cercana (km) (en línea recta)</li>\n",
        "</ul>"
      ]
    },
    {
      "cell_type": "markdown",
      "metadata": {
        "id": "-RNeJdr8FlH8"
      },
      "source": [
        "## Lectura de los datos"
      ]
    },
    {
      "cell_type": "code",
      "metadata": {
        "id": "Ag0g5FG3FlH9"
      },
      "source": [
        "datos = pd.read_csv(\"https://raw.githubusercontent.com/kevirui/Regresion-lineal-2/refs/heads/main/dataset.csv\", sep=';')"
      ],
      "execution_count": 2,
      "outputs": []
    },
    {
      "cell_type": "markdown",
      "metadata": {
        "id": "LttePlt9FlH-"
      },
      "source": [
        "## Ver los datos"
      ]
    },
    {
      "cell_type": "code",
      "metadata": {
        "id": "H3m_FznnFlH_",
        "outputId": "7ed0d59a-1fdb-474d-9c44-090d03652eae",
        "colab": {
          "base_uri": "https://localhost:8080/",
          "height": 112
        }
      },
      "source": [
        "datos.head(2)"
      ],
      "execution_count": 3,
      "outputs": [
        {
          "output_type": "execute_result",
          "data": {
            "text/plain": [
              "    Valor  Area  Dist_Playa  Dist_Farmacia\n",
              "0  850277   280    0.240925       0.793637\n",
              "1  166359   208    0.904136       0.134494"
            ],
            "text/html": [
              "\n",
              "  <div id=\"df-79f2a9ef-a855-4680-b24f-97559a3ed2aa\" class=\"colab-df-container\">\n",
              "    <div>\n",
              "<style scoped>\n",
              "    .dataframe tbody tr th:only-of-type {\n",
              "        vertical-align: middle;\n",
              "    }\n",
              "\n",
              "    .dataframe tbody tr th {\n",
              "        vertical-align: top;\n",
              "    }\n",
              "\n",
              "    .dataframe thead th {\n",
              "        text-align: right;\n",
              "    }\n",
              "</style>\n",
              "<table border=\"1\" class=\"dataframe\">\n",
              "  <thead>\n",
              "    <tr style=\"text-align: right;\">\n",
              "      <th></th>\n",
              "      <th>Valor</th>\n",
              "      <th>Area</th>\n",
              "      <th>Dist_Playa</th>\n",
              "      <th>Dist_Farmacia</th>\n",
              "    </tr>\n",
              "  </thead>\n",
              "  <tbody>\n",
              "    <tr>\n",
              "      <th>0</th>\n",
              "      <td>850277</td>\n",
              "      <td>280</td>\n",
              "      <td>0.240925</td>\n",
              "      <td>0.793637</td>\n",
              "    </tr>\n",
              "    <tr>\n",
              "      <th>1</th>\n",
              "      <td>166359</td>\n",
              "      <td>208</td>\n",
              "      <td>0.904136</td>\n",
              "      <td>0.134494</td>\n",
              "    </tr>\n",
              "  </tbody>\n",
              "</table>\n",
              "</div>\n",
              "    <div class=\"colab-df-buttons\">\n",
              "\n",
              "  <div class=\"colab-df-container\">\n",
              "    <button class=\"colab-df-convert\" onclick=\"convertToInteractive('df-79f2a9ef-a855-4680-b24f-97559a3ed2aa')\"\n",
              "            title=\"Convert this dataframe to an interactive table.\"\n",
              "            style=\"display:none;\">\n",
              "\n",
              "  <svg xmlns=\"http://www.w3.org/2000/svg\" height=\"24px\" viewBox=\"0 -960 960 960\">\n",
              "    <path d=\"M120-120v-720h720v720H120Zm60-500h600v-160H180v160Zm220 220h160v-160H400v160Zm0 220h160v-160H400v160ZM180-400h160v-160H180v160Zm440 0h160v-160H620v160ZM180-180h160v-160H180v160Zm440 0h160v-160H620v160Z\"/>\n",
              "  </svg>\n",
              "    </button>\n",
              "\n",
              "  <style>\n",
              "    .colab-df-container {\n",
              "      display:flex;\n",
              "      gap: 12px;\n",
              "    }\n",
              "\n",
              "    .colab-df-convert {\n",
              "      background-color: #E8F0FE;\n",
              "      border: none;\n",
              "      border-radius: 50%;\n",
              "      cursor: pointer;\n",
              "      display: none;\n",
              "      fill: #1967D2;\n",
              "      height: 32px;\n",
              "      padding: 0 0 0 0;\n",
              "      width: 32px;\n",
              "    }\n",
              "\n",
              "    .colab-df-convert:hover {\n",
              "      background-color: #E2EBFA;\n",
              "      box-shadow: 0px 1px 2px rgba(60, 64, 67, 0.3), 0px 1px 3px 1px rgba(60, 64, 67, 0.15);\n",
              "      fill: #174EA6;\n",
              "    }\n",
              "\n",
              "    .colab-df-buttons div {\n",
              "      margin-bottom: 4px;\n",
              "    }\n",
              "\n",
              "    [theme=dark] .colab-df-convert {\n",
              "      background-color: #3B4455;\n",
              "      fill: #D2E3FC;\n",
              "    }\n",
              "\n",
              "    [theme=dark] .colab-df-convert:hover {\n",
              "      background-color: #434B5C;\n",
              "      box-shadow: 0px 1px 3px 1px rgba(0, 0, 0, 0.15);\n",
              "      filter: drop-shadow(0px 1px 2px rgba(0, 0, 0, 0.3));\n",
              "      fill: #FFFFFF;\n",
              "    }\n",
              "  </style>\n",
              "\n",
              "    <script>\n",
              "      const buttonEl =\n",
              "        document.querySelector('#df-79f2a9ef-a855-4680-b24f-97559a3ed2aa button.colab-df-convert');\n",
              "      buttonEl.style.display =\n",
              "        google.colab.kernel.accessAllowed ? 'block' : 'none';\n",
              "\n",
              "      async function convertToInteractive(key) {\n",
              "        const element = document.querySelector('#df-79f2a9ef-a855-4680-b24f-97559a3ed2aa');\n",
              "        const dataTable =\n",
              "          await google.colab.kernel.invokeFunction('convertToInteractive',\n",
              "                                                    [key], {});\n",
              "        if (!dataTable) return;\n",
              "\n",
              "        const docLinkHtml = 'Like what you see? Visit the ' +\n",
              "          '<a target=\"_blank\" href=https://colab.research.google.com/notebooks/data_table.ipynb>data table notebook</a>'\n",
              "          + ' to learn more about interactive tables.';\n",
              "        element.innerHTML = '';\n",
              "        dataTable['output_type'] = 'display_data';\n",
              "        await google.colab.output.renderOutput(dataTable, element);\n",
              "        const docLink = document.createElement('div');\n",
              "        docLink.innerHTML = docLinkHtml;\n",
              "        element.appendChild(docLink);\n",
              "      }\n",
              "    </script>\n",
              "  </div>\n",
              "\n",
              "\n",
              "    <div id=\"df-99e6085b-b9ec-422d-ae52-f5e5e2091bda\">\n",
              "      <button class=\"colab-df-quickchart\" onclick=\"quickchart('df-99e6085b-b9ec-422d-ae52-f5e5e2091bda')\"\n",
              "                title=\"Suggest charts\"\n",
              "                style=\"display:none;\">\n",
              "\n",
              "<svg xmlns=\"http://www.w3.org/2000/svg\" height=\"24px\"viewBox=\"0 0 24 24\"\n",
              "     width=\"24px\">\n",
              "    <g>\n",
              "        <path d=\"M19 3H5c-1.1 0-2 .9-2 2v14c0 1.1.9 2 2 2h14c1.1 0 2-.9 2-2V5c0-1.1-.9-2-2-2zM9 17H7v-7h2v7zm4 0h-2V7h2v10zm4 0h-2v-4h2v4z\"/>\n",
              "    </g>\n",
              "</svg>\n",
              "      </button>\n",
              "\n",
              "<style>\n",
              "  .colab-df-quickchart {\n",
              "      --bg-color: #E8F0FE;\n",
              "      --fill-color: #1967D2;\n",
              "      --hover-bg-color: #E2EBFA;\n",
              "      --hover-fill-color: #174EA6;\n",
              "      --disabled-fill-color: #AAA;\n",
              "      --disabled-bg-color: #DDD;\n",
              "  }\n",
              "\n",
              "  [theme=dark] .colab-df-quickchart {\n",
              "      --bg-color: #3B4455;\n",
              "      --fill-color: #D2E3FC;\n",
              "      --hover-bg-color: #434B5C;\n",
              "      --hover-fill-color: #FFFFFF;\n",
              "      --disabled-bg-color: #3B4455;\n",
              "      --disabled-fill-color: #666;\n",
              "  }\n",
              "\n",
              "  .colab-df-quickchart {\n",
              "    background-color: var(--bg-color);\n",
              "    border: none;\n",
              "    border-radius: 50%;\n",
              "    cursor: pointer;\n",
              "    display: none;\n",
              "    fill: var(--fill-color);\n",
              "    height: 32px;\n",
              "    padding: 0;\n",
              "    width: 32px;\n",
              "  }\n",
              "\n",
              "  .colab-df-quickchart:hover {\n",
              "    background-color: var(--hover-bg-color);\n",
              "    box-shadow: 0 1px 2px rgba(60, 64, 67, 0.3), 0 1px 3px 1px rgba(60, 64, 67, 0.15);\n",
              "    fill: var(--button-hover-fill-color);\n",
              "  }\n",
              "\n",
              "  .colab-df-quickchart-complete:disabled,\n",
              "  .colab-df-quickchart-complete:disabled:hover {\n",
              "    background-color: var(--disabled-bg-color);\n",
              "    fill: var(--disabled-fill-color);\n",
              "    box-shadow: none;\n",
              "  }\n",
              "\n",
              "  .colab-df-spinner {\n",
              "    border: 2px solid var(--fill-color);\n",
              "    border-color: transparent;\n",
              "    border-bottom-color: var(--fill-color);\n",
              "    animation:\n",
              "      spin 1s steps(1) infinite;\n",
              "  }\n",
              "\n",
              "  @keyframes spin {\n",
              "    0% {\n",
              "      border-color: transparent;\n",
              "      border-bottom-color: var(--fill-color);\n",
              "      border-left-color: var(--fill-color);\n",
              "    }\n",
              "    20% {\n",
              "      border-color: transparent;\n",
              "      border-left-color: var(--fill-color);\n",
              "      border-top-color: var(--fill-color);\n",
              "    }\n",
              "    30% {\n",
              "      border-color: transparent;\n",
              "      border-left-color: var(--fill-color);\n",
              "      border-top-color: var(--fill-color);\n",
              "      border-right-color: var(--fill-color);\n",
              "    }\n",
              "    40% {\n",
              "      border-color: transparent;\n",
              "      border-right-color: var(--fill-color);\n",
              "      border-top-color: var(--fill-color);\n",
              "    }\n",
              "    60% {\n",
              "      border-color: transparent;\n",
              "      border-right-color: var(--fill-color);\n",
              "    }\n",
              "    80% {\n",
              "      border-color: transparent;\n",
              "      border-right-color: var(--fill-color);\n",
              "      border-bottom-color: var(--fill-color);\n",
              "    }\n",
              "    90% {\n",
              "      border-color: transparent;\n",
              "      border-bottom-color: var(--fill-color);\n",
              "    }\n",
              "  }\n",
              "</style>\n",
              "\n",
              "      <script>\n",
              "        async function quickchart(key) {\n",
              "          const quickchartButtonEl =\n",
              "            document.querySelector('#' + key + ' button');\n",
              "          quickchartButtonEl.disabled = true;  // To prevent multiple clicks.\n",
              "          quickchartButtonEl.classList.add('colab-df-spinner');\n",
              "          try {\n",
              "            const charts = await google.colab.kernel.invokeFunction(\n",
              "                'suggestCharts', [key], {});\n",
              "          } catch (error) {\n",
              "            console.error('Error during call to suggestCharts:', error);\n",
              "          }\n",
              "          quickchartButtonEl.classList.remove('colab-df-spinner');\n",
              "          quickchartButtonEl.classList.add('colab-df-quickchart-complete');\n",
              "        }\n",
              "        (() => {\n",
              "          let quickchartButtonEl =\n",
              "            document.querySelector('#df-99e6085b-b9ec-422d-ae52-f5e5e2091bda button');\n",
              "          quickchartButtonEl.style.display =\n",
              "            google.colab.kernel.accessAllowed ? 'block' : 'none';\n",
              "        })();\n",
              "      </script>\n",
              "    </div>\n",
              "\n",
              "    </div>\n",
              "  </div>\n"
            ],
            "application/vnd.google.colaboratory.intrinsic+json": {
              "type": "dataframe",
              "variable_name": "datos",
              "summary": "{\n  \"name\": \"datos\",\n  \"rows\": 5000,\n  \"fields\": [\n    {\n      \"column\": \"Valor\",\n      \"properties\": {\n        \"dtype\": \"number\",\n        \"std\": 348108,\n        \"min\": 13863,\n        \"max\": 4621072,\n        \"num_unique_values\": 930,\n        \"samples\": [\n          303142,\n          361701,\n          83179\n        ],\n        \"semantic_type\": \"\",\n        \"description\": \"\"\n      }\n    },\n    {\n      \"column\": \"Area\",\n      \"properties\": {\n        \"dtype\": \"number\",\n        \"std\": 90,\n        \"min\": 16,\n        \"max\": 2000,\n        \"num_unique_values\": 373,\n        \"samples\": [\n          271,\n          58,\n          68\n        ],\n        \"semantic_type\": \"\",\n        \"description\": \"\"\n      }\n    },\n    {\n      \"column\": \"Dist_Playa\",\n      \"properties\": {\n        \"dtype\": \"number\",\n        \"std\": 3.1709334324867244,\n        \"min\": 0.0,\n        \"max\": 17.96294163,\n        \"num_unique_values\": 3939,\n        \"samples\": [\n          6.512606561,\n          0.424775074,\n          7.754492232\n        ],\n        \"semantic_type\": \"\",\n        \"description\": \"\"\n      }\n    },\n    {\n      \"column\": \"Dist_Farmacia\",\n      \"properties\": {\n        \"dtype\": \"number\",\n        \"std\": 0.29135525501120335,\n        \"min\": 0.000331,\n        \"max\": 0.999987,\n        \"num_unique_values\": 4985,\n        \"samples\": [\n          0.158166,\n          0.935756,\n          0.289517\n        ],\n        \"semantic_type\": \"\",\n        \"description\": \"\"\n      }\n    }\n  ]\n}"
            }
          },
          "metadata": {},
          "execution_count": 3
        }
      ]
    },
    {
      "cell_type": "markdown",
      "metadata": {
        "id": "ZklX00K7FlID"
      },
      "source": [
        "## Verificando el tamaño del dataset"
      ]
    },
    {
      "cell_type": "code",
      "metadata": {
        "id": "qDklRD-pFlIE",
        "outputId": "8efed9a2-5e29-444b-ea49-bc544cb462b4",
        "colab": {
          "base_uri": "https://localhost:8080/"
        }
      },
      "source": [
        "datos.shape"
      ],
      "execution_count": 4,
      "outputs": [
        {
          "output_type": "execute_result",
          "data": {
            "text/plain": [
              "(5000, 4)"
            ]
          },
          "metadata": {},
          "execution_count": 4
        }
      ]
    },
    {
      "cell_type": "code",
      "source": [
        "datos.dtypes"
      ],
      "metadata": {
        "id": "QAhJyFZ4-FWd",
        "outputId": "6d619477-7d8f-4697-ed42-4f5a088cae5c",
        "colab": {
          "base_uri": "https://localhost:8080/",
          "height": 210
        }
      },
      "execution_count": 5,
      "outputs": [
        {
          "output_type": "execute_result",
          "data": {
            "text/plain": [
              "Valor              int64\n",
              "Area               int64\n",
              "Dist_Playa       float64\n",
              "Dist_Farmacia    float64\n",
              "dtype: object"
            ],
            "text/html": [
              "<div>\n",
              "<style scoped>\n",
              "    .dataframe tbody tr th:only-of-type {\n",
              "        vertical-align: middle;\n",
              "    }\n",
              "\n",
              "    .dataframe tbody tr th {\n",
              "        vertical-align: top;\n",
              "    }\n",
              "\n",
              "    .dataframe thead th {\n",
              "        text-align: right;\n",
              "    }\n",
              "</style>\n",
              "<table border=\"1\" class=\"dataframe\">\n",
              "  <thead>\n",
              "    <tr style=\"text-align: right;\">\n",
              "      <th></th>\n",
              "      <th>0</th>\n",
              "    </tr>\n",
              "  </thead>\n",
              "  <tbody>\n",
              "    <tr>\n",
              "      <th>Valor</th>\n",
              "      <td>int64</td>\n",
              "    </tr>\n",
              "    <tr>\n",
              "      <th>Area</th>\n",
              "      <td>int64</td>\n",
              "    </tr>\n",
              "    <tr>\n",
              "      <th>Dist_Playa</th>\n",
              "      <td>float64</td>\n",
              "    </tr>\n",
              "    <tr>\n",
              "      <th>Dist_Farmacia</th>\n",
              "      <td>float64</td>\n",
              "    </tr>\n",
              "  </tbody>\n",
              "</table>\n",
              "</div><br><label><b>dtype:</b> object</label>"
            ]
          },
          "metadata": {},
          "execution_count": 5
        }
      ]
    },
    {
      "cell_type": "code",
      "source": [
        "datos.info()"
      ],
      "metadata": {
        "id": "Xyj7c3Jf-JdE",
        "outputId": "b95bfb3f-65b0-4d2b-df04-ac518abe67bd",
        "colab": {
          "base_uri": "https://localhost:8080/"
        }
      },
      "execution_count": 6,
      "outputs": [
        {
          "output_type": "stream",
          "name": "stdout",
          "text": [
            "<class 'pandas.core.frame.DataFrame'>\n",
            "RangeIndex: 5000 entries, 0 to 4999\n",
            "Data columns (total 4 columns):\n",
            " #   Column         Non-Null Count  Dtype  \n",
            "---  ------         --------------  -----  \n",
            " 0   Valor          5000 non-null   int64  \n",
            " 1   Area           5000 non-null   int64  \n",
            " 2   Dist_Playa     5000 non-null   float64\n",
            " 3   Dist_Farmacia  5000 non-null   float64\n",
            "dtypes: float64(2), int64(2)\n",
            "memory usage: 156.4 KB\n"
          ]
        }
      ]
    },
    {
      "cell_type": "markdown",
      "metadata": {
        "id": "LNBA0xwcFlIG"
      },
      "source": [
        "# <font color='red' style='font-size: 30px;'>1.3 Analisis preliminar</font>\n",
        "<hr style='border: 2px solid red;'>"
      ]
    },
    {
      "cell_type": "markdown",
      "metadata": {
        "id": "O1OdS8lNFlIH"
      },
      "source": [
        "## Estadísticos descriptivos\n"
      ]
    },
    {
      "cell_type": "code",
      "metadata": {
        "id": "WQTSUTZCFlII",
        "outputId": "1cda4c68-9f85-463d-f2f2-16aa169a1830",
        "colab": {
          "base_uri": "https://localhost:8080/",
          "height": 300
        }
      },
      "source": [
        "datos.describe().round(2)"
      ],
      "execution_count": 7,
      "outputs": [
        {
          "output_type": "execute_result",
          "data": {
            "text/plain": [
              "            Valor     Area  Dist_Playa  Dist_Farmacia\n",
              "count     5000.00  5000.00     5000.00        5000.00\n",
              "mean    259320.95   121.94        3.02           0.50\n",
              "std     348108.85    90.54        3.17           0.29\n",
              "min      13863.00    16.00        0.00           0.00\n",
              "25%      85028.00    70.00        0.44           0.24\n",
              "50%     151571.00    93.00        1.48           0.50\n",
              "75%     293900.00   146.00        5.61           0.75\n",
              "max    4621072.00  2000.00       17.96           1.00"
            ],
            "text/html": [
              "\n",
              "  <div id=\"df-7d8c3932-b4d1-41ae-a8e5-e447153dc39d\" class=\"colab-df-container\">\n",
              "    <div>\n",
              "<style scoped>\n",
              "    .dataframe tbody tr th:only-of-type {\n",
              "        vertical-align: middle;\n",
              "    }\n",
              "\n",
              "    .dataframe tbody tr th {\n",
              "        vertical-align: top;\n",
              "    }\n",
              "\n",
              "    .dataframe thead th {\n",
              "        text-align: right;\n",
              "    }\n",
              "</style>\n",
              "<table border=\"1\" class=\"dataframe\">\n",
              "  <thead>\n",
              "    <tr style=\"text-align: right;\">\n",
              "      <th></th>\n",
              "      <th>Valor</th>\n",
              "      <th>Area</th>\n",
              "      <th>Dist_Playa</th>\n",
              "      <th>Dist_Farmacia</th>\n",
              "    </tr>\n",
              "  </thead>\n",
              "  <tbody>\n",
              "    <tr>\n",
              "      <th>count</th>\n",
              "      <td>5000.00</td>\n",
              "      <td>5000.00</td>\n",
              "      <td>5000.00</td>\n",
              "      <td>5000.00</td>\n",
              "    </tr>\n",
              "    <tr>\n",
              "      <th>mean</th>\n",
              "      <td>259320.95</td>\n",
              "      <td>121.94</td>\n",
              "      <td>3.02</td>\n",
              "      <td>0.50</td>\n",
              "    </tr>\n",
              "    <tr>\n",
              "      <th>std</th>\n",
              "      <td>348108.85</td>\n",
              "      <td>90.54</td>\n",
              "      <td>3.17</td>\n",
              "      <td>0.29</td>\n",
              "    </tr>\n",
              "    <tr>\n",
              "      <th>min</th>\n",
              "      <td>13863.00</td>\n",
              "      <td>16.00</td>\n",
              "      <td>0.00</td>\n",
              "      <td>0.00</td>\n",
              "    </tr>\n",
              "    <tr>\n",
              "      <th>25%</th>\n",
              "      <td>85028.00</td>\n",
              "      <td>70.00</td>\n",
              "      <td>0.44</td>\n",
              "      <td>0.24</td>\n",
              "    </tr>\n",
              "    <tr>\n",
              "      <th>50%</th>\n",
              "      <td>151571.00</td>\n",
              "      <td>93.00</td>\n",
              "      <td>1.48</td>\n",
              "      <td>0.50</td>\n",
              "    </tr>\n",
              "    <tr>\n",
              "      <th>75%</th>\n",
              "      <td>293900.00</td>\n",
              "      <td>146.00</td>\n",
              "      <td>5.61</td>\n",
              "      <td>0.75</td>\n",
              "    </tr>\n",
              "    <tr>\n",
              "      <th>max</th>\n",
              "      <td>4621072.00</td>\n",
              "      <td>2000.00</td>\n",
              "      <td>17.96</td>\n",
              "      <td>1.00</td>\n",
              "    </tr>\n",
              "  </tbody>\n",
              "</table>\n",
              "</div>\n",
              "    <div class=\"colab-df-buttons\">\n",
              "\n",
              "  <div class=\"colab-df-container\">\n",
              "    <button class=\"colab-df-convert\" onclick=\"convertToInteractive('df-7d8c3932-b4d1-41ae-a8e5-e447153dc39d')\"\n",
              "            title=\"Convert this dataframe to an interactive table.\"\n",
              "            style=\"display:none;\">\n",
              "\n",
              "  <svg xmlns=\"http://www.w3.org/2000/svg\" height=\"24px\" viewBox=\"0 -960 960 960\">\n",
              "    <path d=\"M120-120v-720h720v720H120Zm60-500h600v-160H180v160Zm220 220h160v-160H400v160Zm0 220h160v-160H400v160ZM180-400h160v-160H180v160Zm440 0h160v-160H620v160ZM180-180h160v-160H180v160Zm440 0h160v-160H620v160Z\"/>\n",
              "  </svg>\n",
              "    </button>\n",
              "\n",
              "  <style>\n",
              "    .colab-df-container {\n",
              "      display:flex;\n",
              "      gap: 12px;\n",
              "    }\n",
              "\n",
              "    .colab-df-convert {\n",
              "      background-color: #E8F0FE;\n",
              "      border: none;\n",
              "      border-radius: 50%;\n",
              "      cursor: pointer;\n",
              "      display: none;\n",
              "      fill: #1967D2;\n",
              "      height: 32px;\n",
              "      padding: 0 0 0 0;\n",
              "      width: 32px;\n",
              "    }\n",
              "\n",
              "    .colab-df-convert:hover {\n",
              "      background-color: #E2EBFA;\n",
              "      box-shadow: 0px 1px 2px rgba(60, 64, 67, 0.3), 0px 1px 3px 1px rgba(60, 64, 67, 0.15);\n",
              "      fill: #174EA6;\n",
              "    }\n",
              "\n",
              "    .colab-df-buttons div {\n",
              "      margin-bottom: 4px;\n",
              "    }\n",
              "\n",
              "    [theme=dark] .colab-df-convert {\n",
              "      background-color: #3B4455;\n",
              "      fill: #D2E3FC;\n",
              "    }\n",
              "\n",
              "    [theme=dark] .colab-df-convert:hover {\n",
              "      background-color: #434B5C;\n",
              "      box-shadow: 0px 1px 3px 1px rgba(0, 0, 0, 0.15);\n",
              "      filter: drop-shadow(0px 1px 2px rgba(0, 0, 0, 0.3));\n",
              "      fill: #FFFFFF;\n",
              "    }\n",
              "  </style>\n",
              "\n",
              "    <script>\n",
              "      const buttonEl =\n",
              "        document.querySelector('#df-7d8c3932-b4d1-41ae-a8e5-e447153dc39d button.colab-df-convert');\n",
              "      buttonEl.style.display =\n",
              "        google.colab.kernel.accessAllowed ? 'block' : 'none';\n",
              "\n",
              "      async function convertToInteractive(key) {\n",
              "        const element = document.querySelector('#df-7d8c3932-b4d1-41ae-a8e5-e447153dc39d');\n",
              "        const dataTable =\n",
              "          await google.colab.kernel.invokeFunction('convertToInteractive',\n",
              "                                                    [key], {});\n",
              "        if (!dataTable) return;\n",
              "\n",
              "        const docLinkHtml = 'Like what you see? Visit the ' +\n",
              "          '<a target=\"_blank\" href=https://colab.research.google.com/notebooks/data_table.ipynb>data table notebook</a>'\n",
              "          + ' to learn more about interactive tables.';\n",
              "        element.innerHTML = '';\n",
              "        dataTable['output_type'] = 'display_data';\n",
              "        await google.colab.output.renderOutput(dataTable, element);\n",
              "        const docLink = document.createElement('div');\n",
              "        docLink.innerHTML = docLinkHtml;\n",
              "        element.appendChild(docLink);\n",
              "      }\n",
              "    </script>\n",
              "  </div>\n",
              "\n",
              "\n",
              "    <div id=\"df-5cdd3ae9-e34b-477e-95aa-04f3e5244d79\">\n",
              "      <button class=\"colab-df-quickchart\" onclick=\"quickchart('df-5cdd3ae9-e34b-477e-95aa-04f3e5244d79')\"\n",
              "                title=\"Suggest charts\"\n",
              "                style=\"display:none;\">\n",
              "\n",
              "<svg xmlns=\"http://www.w3.org/2000/svg\" height=\"24px\"viewBox=\"0 0 24 24\"\n",
              "     width=\"24px\">\n",
              "    <g>\n",
              "        <path d=\"M19 3H5c-1.1 0-2 .9-2 2v14c0 1.1.9 2 2 2h14c1.1 0 2-.9 2-2V5c0-1.1-.9-2-2-2zM9 17H7v-7h2v7zm4 0h-2V7h2v10zm4 0h-2v-4h2v4z\"/>\n",
              "    </g>\n",
              "</svg>\n",
              "      </button>\n",
              "\n",
              "<style>\n",
              "  .colab-df-quickchart {\n",
              "      --bg-color: #E8F0FE;\n",
              "      --fill-color: #1967D2;\n",
              "      --hover-bg-color: #E2EBFA;\n",
              "      --hover-fill-color: #174EA6;\n",
              "      --disabled-fill-color: #AAA;\n",
              "      --disabled-bg-color: #DDD;\n",
              "  }\n",
              "\n",
              "  [theme=dark] .colab-df-quickchart {\n",
              "      --bg-color: #3B4455;\n",
              "      --fill-color: #D2E3FC;\n",
              "      --hover-bg-color: #434B5C;\n",
              "      --hover-fill-color: #FFFFFF;\n",
              "      --disabled-bg-color: #3B4455;\n",
              "      --disabled-fill-color: #666;\n",
              "  }\n",
              "\n",
              "  .colab-df-quickchart {\n",
              "    background-color: var(--bg-color);\n",
              "    border: none;\n",
              "    border-radius: 50%;\n",
              "    cursor: pointer;\n",
              "    display: none;\n",
              "    fill: var(--fill-color);\n",
              "    height: 32px;\n",
              "    padding: 0;\n",
              "    width: 32px;\n",
              "  }\n",
              "\n",
              "  .colab-df-quickchart:hover {\n",
              "    background-color: var(--hover-bg-color);\n",
              "    box-shadow: 0 1px 2px rgba(60, 64, 67, 0.3), 0 1px 3px 1px rgba(60, 64, 67, 0.15);\n",
              "    fill: var(--button-hover-fill-color);\n",
              "  }\n",
              "\n",
              "  .colab-df-quickchart-complete:disabled,\n",
              "  .colab-df-quickchart-complete:disabled:hover {\n",
              "    background-color: var(--disabled-bg-color);\n",
              "    fill: var(--disabled-fill-color);\n",
              "    box-shadow: none;\n",
              "  }\n",
              "\n",
              "  .colab-df-spinner {\n",
              "    border: 2px solid var(--fill-color);\n",
              "    border-color: transparent;\n",
              "    border-bottom-color: var(--fill-color);\n",
              "    animation:\n",
              "      spin 1s steps(1) infinite;\n",
              "  }\n",
              "\n",
              "  @keyframes spin {\n",
              "    0% {\n",
              "      border-color: transparent;\n",
              "      border-bottom-color: var(--fill-color);\n",
              "      border-left-color: var(--fill-color);\n",
              "    }\n",
              "    20% {\n",
              "      border-color: transparent;\n",
              "      border-left-color: var(--fill-color);\n",
              "      border-top-color: var(--fill-color);\n",
              "    }\n",
              "    30% {\n",
              "      border-color: transparent;\n",
              "      border-left-color: var(--fill-color);\n",
              "      border-top-color: var(--fill-color);\n",
              "      border-right-color: var(--fill-color);\n",
              "    }\n",
              "    40% {\n",
              "      border-color: transparent;\n",
              "      border-right-color: var(--fill-color);\n",
              "      border-top-color: var(--fill-color);\n",
              "    }\n",
              "    60% {\n",
              "      border-color: transparent;\n",
              "      border-right-color: var(--fill-color);\n",
              "    }\n",
              "    80% {\n",
              "      border-color: transparent;\n",
              "      border-right-color: var(--fill-color);\n",
              "      border-bottom-color: var(--fill-color);\n",
              "    }\n",
              "    90% {\n",
              "      border-color: transparent;\n",
              "      border-bottom-color: var(--fill-color);\n",
              "    }\n",
              "  }\n",
              "</style>\n",
              "\n",
              "      <script>\n",
              "        async function quickchart(key) {\n",
              "          const quickchartButtonEl =\n",
              "            document.querySelector('#' + key + ' button');\n",
              "          quickchartButtonEl.disabled = true;  // To prevent multiple clicks.\n",
              "          quickchartButtonEl.classList.add('colab-df-spinner');\n",
              "          try {\n",
              "            const charts = await google.colab.kernel.invokeFunction(\n",
              "                'suggestCharts', [key], {});\n",
              "          } catch (error) {\n",
              "            console.error('Error during call to suggestCharts:', error);\n",
              "          }\n",
              "          quickchartButtonEl.classList.remove('colab-df-spinner');\n",
              "          quickchartButtonEl.classList.add('colab-df-quickchart-complete');\n",
              "        }\n",
              "        (() => {\n",
              "          let quickchartButtonEl =\n",
              "            document.querySelector('#df-5cdd3ae9-e34b-477e-95aa-04f3e5244d79 button');\n",
              "          quickchartButtonEl.style.display =\n",
              "            google.colab.kernel.accessAllowed ? 'block' : 'none';\n",
              "        })();\n",
              "      </script>\n",
              "    </div>\n",
              "\n",
              "    </div>\n",
              "  </div>\n"
            ],
            "application/vnd.google.colaboratory.intrinsic+json": {
              "type": "dataframe",
              "summary": "{\n  \"name\": \"datos\",\n  \"rows\": 8,\n  \"fields\": [\n    {\n      \"column\": \"Valor\",\n      \"properties\": {\n        \"dtype\": \"number\",\n        \"std\": 1580531.9048579102,\n        \"min\": 5000.0,\n        \"max\": 4621072.0,\n        \"num_unique_values\": 8,\n        \"samples\": [\n          259320.95,\n          151571.0,\n          5000.0\n        ],\n        \"semantic_type\": \"\",\n        \"description\": \"\"\n      }\n    },\n    {\n      \"column\": \"Area\",\n      \"properties\": {\n        \"dtype\": \"number\",\n        \"std\": 1771.0564749162736,\n        \"min\": 16.0,\n        \"max\": 5000.0,\n        \"num_unique_values\": 8,\n        \"samples\": [\n          121.94,\n          93.0,\n          5000.0\n        ],\n        \"semantic_type\": \"\",\n        \"description\": \"\"\n      }\n    },\n    {\n      \"column\": \"Dist_Playa\",\n      \"properties\": {\n        \"dtype\": \"number\",\n        \"std\": 1766.1762626080106,\n        \"min\": 0.0,\n        \"max\": 5000.0,\n        \"num_unique_values\": 8,\n        \"samples\": [\n          3.02,\n          1.48,\n          5000.0\n        ],\n        \"semantic_type\": \"\",\n        \"description\": \"\"\n      }\n    },\n    {\n      \"column\": \"Dist_Farmacia\",\n      \"properties\": {\n        \"dtype\": \"number\",\n        \"std\": 1767.6013149140035,\n        \"min\": 0.0,\n        \"max\": 5000.0,\n        \"num_unique_values\": 7,\n        \"samples\": [\n          5000.0,\n          0.5,\n          0.75\n        ],\n        \"semantic_type\": \"\",\n        \"description\": \"\"\n      }\n    }\n  ]\n}"
            }
          },
          "metadata": {},
          "execution_count": 7
        }
      ]
    },
    {
      "cell_type": "markdown",
      "metadata": {
        "id": "SPyCvujFFlIJ"
      },
      "source": [
        "## Matriz de correlación\n",
        "\n",
        "<p style='font-size: 18px; line-height: 2; margin: 10px 50px; text-align: justify;'>El <b> coeficiente de correlación </b> es una medida de asociación lineal entre dos variables y su valor está entre <b> -1 </b> y <b> +1 </b>, dónde <b> - 1 </b> indica asociación negativa perfecta y <b> +1 </b> indica asociación positiva perfecta.</p>"
      ]
    },
    {
      "cell_type": "code",
      "metadata": {
        "id": "tark05uRFlIK",
        "outputId": "c32c4e20-0d27-429a-ec8f-fbbe3ffc568f",
        "colab": {
          "base_uri": "https://localhost:8080/",
          "height": 175
        }
      },
      "source": [
        "datos.corr().round(4)"
      ],
      "execution_count": 8,
      "outputs": [
        {
          "output_type": "execute_result",
          "data": {
            "text/plain": [
              "                Valor    Area  Dist_Playa  Dist_Farmacia\n",
              "Valor          1.0000  0.7110     -0.3665        -0.0244\n",
              "Area           0.7110  1.0000     -0.2834        -0.0310\n",
              "Dist_Playa    -0.3665 -0.2834      1.0000         0.0256\n",
              "Dist_Farmacia -0.0244 -0.0310      0.0256         1.0000"
            ],
            "text/html": [
              "\n",
              "  <div id=\"df-60770b85-fcec-48b7-96c7-70384f244fd5\" class=\"colab-df-container\">\n",
              "    <div>\n",
              "<style scoped>\n",
              "    .dataframe tbody tr th:only-of-type {\n",
              "        vertical-align: middle;\n",
              "    }\n",
              "\n",
              "    .dataframe tbody tr th {\n",
              "        vertical-align: top;\n",
              "    }\n",
              "\n",
              "    .dataframe thead th {\n",
              "        text-align: right;\n",
              "    }\n",
              "</style>\n",
              "<table border=\"1\" class=\"dataframe\">\n",
              "  <thead>\n",
              "    <tr style=\"text-align: right;\">\n",
              "      <th></th>\n",
              "      <th>Valor</th>\n",
              "      <th>Area</th>\n",
              "      <th>Dist_Playa</th>\n",
              "      <th>Dist_Farmacia</th>\n",
              "    </tr>\n",
              "  </thead>\n",
              "  <tbody>\n",
              "    <tr>\n",
              "      <th>Valor</th>\n",
              "      <td>1.0000</td>\n",
              "      <td>0.7110</td>\n",
              "      <td>-0.3665</td>\n",
              "      <td>-0.0244</td>\n",
              "    </tr>\n",
              "    <tr>\n",
              "      <th>Area</th>\n",
              "      <td>0.7110</td>\n",
              "      <td>1.0000</td>\n",
              "      <td>-0.2834</td>\n",
              "      <td>-0.0310</td>\n",
              "    </tr>\n",
              "    <tr>\n",
              "      <th>Dist_Playa</th>\n",
              "      <td>-0.3665</td>\n",
              "      <td>-0.2834</td>\n",
              "      <td>1.0000</td>\n",
              "      <td>0.0256</td>\n",
              "    </tr>\n",
              "    <tr>\n",
              "      <th>Dist_Farmacia</th>\n",
              "      <td>-0.0244</td>\n",
              "      <td>-0.0310</td>\n",
              "      <td>0.0256</td>\n",
              "      <td>1.0000</td>\n",
              "    </tr>\n",
              "  </tbody>\n",
              "</table>\n",
              "</div>\n",
              "    <div class=\"colab-df-buttons\">\n",
              "\n",
              "  <div class=\"colab-df-container\">\n",
              "    <button class=\"colab-df-convert\" onclick=\"convertToInteractive('df-60770b85-fcec-48b7-96c7-70384f244fd5')\"\n",
              "            title=\"Convert this dataframe to an interactive table.\"\n",
              "            style=\"display:none;\">\n",
              "\n",
              "  <svg xmlns=\"http://www.w3.org/2000/svg\" height=\"24px\" viewBox=\"0 -960 960 960\">\n",
              "    <path d=\"M120-120v-720h720v720H120Zm60-500h600v-160H180v160Zm220 220h160v-160H400v160Zm0 220h160v-160H400v160ZM180-400h160v-160H180v160Zm440 0h160v-160H620v160ZM180-180h160v-160H180v160Zm440 0h160v-160H620v160Z\"/>\n",
              "  </svg>\n",
              "    </button>\n",
              "\n",
              "  <style>\n",
              "    .colab-df-container {\n",
              "      display:flex;\n",
              "      gap: 12px;\n",
              "    }\n",
              "\n",
              "    .colab-df-convert {\n",
              "      background-color: #E8F0FE;\n",
              "      border: none;\n",
              "      border-radius: 50%;\n",
              "      cursor: pointer;\n",
              "      display: none;\n",
              "      fill: #1967D2;\n",
              "      height: 32px;\n",
              "      padding: 0 0 0 0;\n",
              "      width: 32px;\n",
              "    }\n",
              "\n",
              "    .colab-df-convert:hover {\n",
              "      background-color: #E2EBFA;\n",
              "      box-shadow: 0px 1px 2px rgba(60, 64, 67, 0.3), 0px 1px 3px 1px rgba(60, 64, 67, 0.15);\n",
              "      fill: #174EA6;\n",
              "    }\n",
              "\n",
              "    .colab-df-buttons div {\n",
              "      margin-bottom: 4px;\n",
              "    }\n",
              "\n",
              "    [theme=dark] .colab-df-convert {\n",
              "      background-color: #3B4455;\n",
              "      fill: #D2E3FC;\n",
              "    }\n",
              "\n",
              "    [theme=dark] .colab-df-convert:hover {\n",
              "      background-color: #434B5C;\n",
              "      box-shadow: 0px 1px 3px 1px rgba(0, 0, 0, 0.15);\n",
              "      filter: drop-shadow(0px 1px 2px rgba(0, 0, 0, 0.3));\n",
              "      fill: #FFFFFF;\n",
              "    }\n",
              "  </style>\n",
              "\n",
              "    <script>\n",
              "      const buttonEl =\n",
              "        document.querySelector('#df-60770b85-fcec-48b7-96c7-70384f244fd5 button.colab-df-convert');\n",
              "      buttonEl.style.display =\n",
              "        google.colab.kernel.accessAllowed ? 'block' : 'none';\n",
              "\n",
              "      async function convertToInteractive(key) {\n",
              "        const element = document.querySelector('#df-60770b85-fcec-48b7-96c7-70384f244fd5');\n",
              "        const dataTable =\n",
              "          await google.colab.kernel.invokeFunction('convertToInteractive',\n",
              "                                                    [key], {});\n",
              "        if (!dataTable) return;\n",
              "\n",
              "        const docLinkHtml = 'Like what you see? Visit the ' +\n",
              "          '<a target=\"_blank\" href=https://colab.research.google.com/notebooks/data_table.ipynb>data table notebook</a>'\n",
              "          + ' to learn more about interactive tables.';\n",
              "        element.innerHTML = '';\n",
              "        dataTable['output_type'] = 'display_data';\n",
              "        await google.colab.output.renderOutput(dataTable, element);\n",
              "        const docLink = document.createElement('div');\n",
              "        docLink.innerHTML = docLinkHtml;\n",
              "        element.appendChild(docLink);\n",
              "      }\n",
              "    </script>\n",
              "  </div>\n",
              "\n",
              "\n",
              "    <div id=\"df-fa3922c5-fcd9-49fe-b0f2-e67d1fd9d384\">\n",
              "      <button class=\"colab-df-quickchart\" onclick=\"quickchart('df-fa3922c5-fcd9-49fe-b0f2-e67d1fd9d384')\"\n",
              "                title=\"Suggest charts\"\n",
              "                style=\"display:none;\">\n",
              "\n",
              "<svg xmlns=\"http://www.w3.org/2000/svg\" height=\"24px\"viewBox=\"0 0 24 24\"\n",
              "     width=\"24px\">\n",
              "    <g>\n",
              "        <path d=\"M19 3H5c-1.1 0-2 .9-2 2v14c0 1.1.9 2 2 2h14c1.1 0 2-.9 2-2V5c0-1.1-.9-2-2-2zM9 17H7v-7h2v7zm4 0h-2V7h2v10zm4 0h-2v-4h2v4z\"/>\n",
              "    </g>\n",
              "</svg>\n",
              "      </button>\n",
              "\n",
              "<style>\n",
              "  .colab-df-quickchart {\n",
              "      --bg-color: #E8F0FE;\n",
              "      --fill-color: #1967D2;\n",
              "      --hover-bg-color: #E2EBFA;\n",
              "      --hover-fill-color: #174EA6;\n",
              "      --disabled-fill-color: #AAA;\n",
              "      --disabled-bg-color: #DDD;\n",
              "  }\n",
              "\n",
              "  [theme=dark] .colab-df-quickchart {\n",
              "      --bg-color: #3B4455;\n",
              "      --fill-color: #D2E3FC;\n",
              "      --hover-bg-color: #434B5C;\n",
              "      --hover-fill-color: #FFFFFF;\n",
              "      --disabled-bg-color: #3B4455;\n",
              "      --disabled-fill-color: #666;\n",
              "  }\n",
              "\n",
              "  .colab-df-quickchart {\n",
              "    background-color: var(--bg-color);\n",
              "    border: none;\n",
              "    border-radius: 50%;\n",
              "    cursor: pointer;\n",
              "    display: none;\n",
              "    fill: var(--fill-color);\n",
              "    height: 32px;\n",
              "    padding: 0;\n",
              "    width: 32px;\n",
              "  }\n",
              "\n",
              "  .colab-df-quickchart:hover {\n",
              "    background-color: var(--hover-bg-color);\n",
              "    box-shadow: 0 1px 2px rgba(60, 64, 67, 0.3), 0 1px 3px 1px rgba(60, 64, 67, 0.15);\n",
              "    fill: var(--button-hover-fill-color);\n",
              "  }\n",
              "\n",
              "  .colab-df-quickchart-complete:disabled,\n",
              "  .colab-df-quickchart-complete:disabled:hover {\n",
              "    background-color: var(--disabled-bg-color);\n",
              "    fill: var(--disabled-fill-color);\n",
              "    box-shadow: none;\n",
              "  }\n",
              "\n",
              "  .colab-df-spinner {\n",
              "    border: 2px solid var(--fill-color);\n",
              "    border-color: transparent;\n",
              "    border-bottom-color: var(--fill-color);\n",
              "    animation:\n",
              "      spin 1s steps(1) infinite;\n",
              "  }\n",
              "\n",
              "  @keyframes spin {\n",
              "    0% {\n",
              "      border-color: transparent;\n",
              "      border-bottom-color: var(--fill-color);\n",
              "      border-left-color: var(--fill-color);\n",
              "    }\n",
              "    20% {\n",
              "      border-color: transparent;\n",
              "      border-left-color: var(--fill-color);\n",
              "      border-top-color: var(--fill-color);\n",
              "    }\n",
              "    30% {\n",
              "      border-color: transparent;\n",
              "      border-left-color: var(--fill-color);\n",
              "      border-top-color: var(--fill-color);\n",
              "      border-right-color: var(--fill-color);\n",
              "    }\n",
              "    40% {\n",
              "      border-color: transparent;\n",
              "      border-right-color: var(--fill-color);\n",
              "      border-top-color: var(--fill-color);\n",
              "    }\n",
              "    60% {\n",
              "      border-color: transparent;\n",
              "      border-right-color: var(--fill-color);\n",
              "    }\n",
              "    80% {\n",
              "      border-color: transparent;\n",
              "      border-right-color: var(--fill-color);\n",
              "      border-bottom-color: var(--fill-color);\n",
              "    }\n",
              "    90% {\n",
              "      border-color: transparent;\n",
              "      border-bottom-color: var(--fill-color);\n",
              "    }\n",
              "  }\n",
              "</style>\n",
              "\n",
              "      <script>\n",
              "        async function quickchart(key) {\n",
              "          const quickchartButtonEl =\n",
              "            document.querySelector('#' + key + ' button');\n",
              "          quickchartButtonEl.disabled = true;  // To prevent multiple clicks.\n",
              "          quickchartButtonEl.classList.add('colab-df-spinner');\n",
              "          try {\n",
              "            const charts = await google.colab.kernel.invokeFunction(\n",
              "                'suggestCharts', [key], {});\n",
              "          } catch (error) {\n",
              "            console.error('Error during call to suggestCharts:', error);\n",
              "          }\n",
              "          quickchartButtonEl.classList.remove('colab-df-spinner');\n",
              "          quickchartButtonEl.classList.add('colab-df-quickchart-complete');\n",
              "        }\n",
              "        (() => {\n",
              "          let quickchartButtonEl =\n",
              "            document.querySelector('#df-fa3922c5-fcd9-49fe-b0f2-e67d1fd9d384 button');\n",
              "          quickchartButtonEl.style.display =\n",
              "            google.colab.kernel.accessAllowed ? 'block' : 'none';\n",
              "        })();\n",
              "      </script>\n",
              "    </div>\n",
              "\n",
              "    </div>\n",
              "  </div>\n"
            ],
            "application/vnd.google.colaboratory.intrinsic+json": {
              "type": "dataframe",
              "summary": "{\n  \"name\": \"datos\",\n  \"rows\": 4,\n  \"fields\": [\n    {\n      \"column\": \"Valor\",\n      \"properties\": {\n        \"dtype\": \"number\",\n        \"std\": 0.6337119765056256,\n        \"min\": -0.3665,\n        \"max\": 1.0,\n        \"num_unique_values\": 4,\n        \"samples\": [\n          0.711,\n          -0.0244,\n          1.0\n        ],\n        \"semantic_type\": \"\",\n        \"description\": \"\"\n      }\n    },\n    {\n      \"column\": \"Area\",\n      \"properties\": {\n        \"dtype\": \"number\",\n        \"std\": 0.6053028635870366,\n        \"min\": -0.2834,\n        \"max\": 1.0,\n        \"num_unique_values\": 4,\n        \"samples\": [\n          1.0,\n          -0.031,\n          0.711\n        ],\n        \"semantic_type\": \"\",\n        \"description\": \"\"\n      }\n    },\n    {\n      \"column\": \"Dist_Playa\",\n      \"properties\": {\n        \"dtype\": \"number\",\n        \"std\": 0.6271643983039854,\n        \"min\": -0.3665,\n        \"max\": 1.0,\n        \"num_unique_values\": 4,\n        \"samples\": [\n          -0.2834,\n          0.0256,\n          -0.3665\n        ],\n        \"semantic_type\": \"\",\n        \"description\": \"\"\n      }\n    },\n    {\n      \"column\": \"Dist_Farmacia\",\n      \"properties\": {\n        \"dtype\": \"number\",\n        \"std\": 0.5055985594652473,\n        \"min\": -0.031,\n        \"max\": 1.0,\n        \"num_unique_values\": 4,\n        \"samples\": [\n          -0.031,\n          1.0,\n          -0.0244\n        ],\n        \"semantic_type\": \"\",\n        \"description\": \"\"\n      }\n    }\n  ]\n}"
            }
          },
          "metadata": {},
          "execution_count": 8
        }
      ]
    },
    {
      "cell_type": "markdown",
      "metadata": {
        "id": "xphhOWDOFlIM"
      },
      "source": [
        "# <font color='red' style='font-size: 30px;'>2.1 Comportamiento de la variable dependiente (Y)</font>\n",
        "<hr style='border: 2px solid red;'>"
      ]
    },
    {
      "cell_type": "markdown",
      "metadata": {
        "id": "YPafmc2jFlIN"
      },
      "source": [
        "## Importando la biblioteca seaborn\n",
        "https://seaborn.pydata.org/\n",
        "<p style='font-size: 18px; line-height: 2; margin: 10px 50px; text-align: justify;'>Seaborn es una biblioteca de visualización de datos de Python basada en matplotlib. Proporciona una interfaz de alto nivel para dibujar gráficos estadísticos.</p>"
      ]
    },
    {
      "cell_type": "code",
      "metadata": {
        "id": "bYZfJuSQFlIO"
      },
      "source": [
        "import seaborn as sns"
      ],
      "execution_count": 11,
      "outputs": []
    },
    {
      "cell_type": "markdown",
      "metadata": {
        "id": "WVl_uUtSFlIP"
      },
      "source": [
        "## Configuración del formato de los gráficos"
      ]
    },
    {
      "cell_type": "code",
      "metadata": {
        "id": "bby91uu2FlIQ"
      },
      "source": [
        "# palette -> Accent, Accent_r, Blues, Blues_r, BrBG, BrBG_r, BuGn, BuGn_r, BuPu, BuPu_r, CMRmap, CMRmap_r, Dark2, Dark2_r, GnBu, GnBu_r, Greens, Greens_r, Greys, Greys_r, OrRd, OrRd_r, Oranges, Oranges_r, PRGn, PRGn_r, Paired, Paired_r, Pastel1, Pastel1_r, Pastel2, Pastel2_r, PiYG, PiYG_r, PuBu, PuBuGn, PuBuGn_r, PuBu_r, PuOr, PuOr_r, PuRd, PuRd_r, Purples, Purples_r, RdBu, RdBu_r, RdGy, RdGy_r, RdPu, RdPu_r, RdYlBu, RdYlBu_r, RdYlGn, RdYlGn_r, Reds, Reds_r, Set1, Set1_r, Set2, Set2_r, Set3, Set3_r, Spectral, Spectral_r, Wistia, Wistia_r, YlGn, YlGnBu, YlGnBu_r, YlGn_r, YlOrBr, YlOrBr_r, YlOrRd, YlOrRd_r, afmhot, afmhot_r, autumn, autumn_r, binary, binary_r, bone, bone_r, brg, brg_r, bwr, bwr_r, cividis, cividis_r, cool, cool_r, coolwarm, coolwarm_r, copper, copper_r, cubehelix, cubehelix_r, flag, flag_r, gist_earth, gist_earth_r, gist_gray, gist_gray_r, gist_heat, gist_heat_r, gist_ncar, gist_ncar_r, gist_rainbow, gist_rainbow_r, gist_stern, gist_stern_r, gist_yarg, gist_yarg_r, gnuplot, gnuplot2, gnuplot2_r, gnuplot_r, gray, gray_r, hot, hot_r, hsv, hsv_r, icefire, icefire_r, inferno, inferno_r, jet, jet_r, magma, magma_r, mako, mako_r, nipy_spectral, nipy_spectral_r, ocean, ocean_r, pink, pink_r, plasma, plasma_r, prism, prism_r, rainbow, rainbow_r, rocket, rocket_r, seismic, seismic_r, spring, spring_r, summer, summer_r, tab10, tab10_r, tab20, tab20_r, tab20b, tab20b_r, tab20c, tab20c_r, terrain, terrain_r, viridis, viridis_r, vlag, vlag_r, winter, winter_r\n",
        "sns.set_palette('Accent')\n",
        "# style -> white, dark, whitegrid, darkgrid, ticks\n",
        "sns.set_style('darkgrid')"
      ],
      "execution_count": 12,
      "outputs": []
    },
    {
      "cell_type": "markdown",
      "metadata": {
        "id": "wnh3z0dqFlIS"
      },
      "source": [
        "## Box plot de la variable *dependiente* (y)"
      ]
    },
    {
      "cell_type": "markdown",
      "metadata": {
        "id": "p0mFUrzAFlIS"
      },
      "source": [
        "<img width='700px' src='https://caelum-online-public.s3.amazonaws.com/ESP-1774-regresion-lineal/Box-Plot.png'>"
      ]
    },
    {
      "cell_type": "markdown",
      "metadata": {
        "id": "dPiy5bp_FlIT"
      },
      "source": [
        "https://seaborn.pydata.org/generated/seaborn.boxplot.html?highlight=boxplot#seaborn.boxplot"
      ]
    },
    {
      "cell_type": "code",
      "metadata": {
        "id": "pi6rui42FlIU",
        "outputId": "9b74be58-9b6c-48c3-c35c-2578f3a50cd8",
        "colab": {
          "base_uri": "https://localhost:8080/",
          "height": 518
        }
      },
      "source": [
        "ax = sns.boxplot(data=datos['Valor'], orient='h', width=0.3)\n",
        "ax.figure.set_size_inches(20, 5)\n",
        "ax.set_title('Precio de los Inmuebles', fontsize=20)\n",
        "ax.set_xlabel('Dolares', fontsize=16)\n",
        "ax"
      ],
      "execution_count": 13,
      "outputs": [
        {
          "output_type": "execute_result",
          "data": {
            "text/plain": [
              "<Axes: title={'center': 'Precio de los Inmuebles'}, xlabel='Dolares'>"
            ]
          },
          "metadata": {},
          "execution_count": 13
        },
        {
          "output_type": "display_data",
          "data": {
            "text/plain": [
              "<Figure size 2000x500 with 1 Axes>"
            ],
            "image/png": "[encoded data removed]"
          },
          "metadata": {}
        }
      ]
    },
    {
      "cell_type": "markdown",
      "metadata": {
        "id": "2EZVR8RfFlIV"
      },
      "source": [
        "# <font color='red' style='font-size: 30px;'>2.2 Distribución de frecuencias</font>\n",
        "<hr style='border: 2px solid red;'>"
      ]
    },
    {
      "cell_type": "markdown",
      "metadata": {
        "id": "qmxczNoVFlIV"
      },
      "source": [
        "## Distribución de frecuencias de la variable *dependiente* (y)"
      ]
    },
    {
      "cell_type": "markdown",
      "metadata": {
        "id": "OkP3v3dNFlIV"
      },
      "source": [
        "https://seaborn.pydata.org/generated/seaborn.distplot.html?highlight=distplot#seaborn.distplot"
      ]
    },
    {
      "cell_type": "code",
      "metadata": {
        "id": "dZVlsdpGFlIW",
        "outputId": "7f3d1c09-c9cc-4a98-f368-2915d2fa668d",
        "colab": {
          "base_uri": "https://localhost:8080/",
          "height": 786
        }
      },
      "source": [
        "ax = sns.distplot(datos['Valor'])\n",
        "ax.figure.set_size_inches(20, 6)\n",
        "ax.set_title('Distribuición de Frecuencias', fontsize=20)\n",
        "ax.set_xlabel('Precio de los Inmuebles (US$)', fontsize=16)\n",
        "ax"
      ],
      "execution_count": 14,
      "outputs": [
        {
          "output_type": "stream",
          "name": "stderr",
          "text": [
            "/tmp/ipython-input-14-3288651884.py:1: UserWarning: \n",
            "\n",
            "`distplot` is a deprecated function and will be removed in seaborn v0.14.0.\n",
            "\n",
            "Please adapt your code to use either `displot` (a figure-level function with\n",
            "similar flexibility) or `histplot` (an axes-level function for histograms).\n",
            "\n",
            "For a guide to updating your code to use the new functions, please see\n",
            "https://gist.github.com/mwaskom/de44147ed2974457ad6372750bbe5751\n",
            "\n",
            "  ax = sns.distplot(datos['Valor'])\n"
          ]
        },
        {
          "output_type": "execute_result",
          "data": {
            "text/plain": [
              "<Axes: title={'center': 'Distribuición de Frecuencias'}, xlabel='Precio de los Inmuebles (US$)', ylabel='Density'>"
            ]
          },
          "metadata": {},
          "execution_count": 14
        },
        {
          "output_type": "display_data",
          "data": {
            "text/plain": [
              "<Figure size 2000x600 with 1 Axes>"
            ],
            "image/png": "[encoded data removed]"
          },
          "metadata": {}
        }
      ]
    },
    {
      "cell_type": "markdown",
      "metadata": {
        "id": "DMIi5nRmFlIX"
      },
      "source": [
        "<img width='800px' src='https://caelum-online-public.s3.amazonaws.com/ESP-1803-regresion-lineal-tecnicas-avanzadas-modelado/Box-Plot+II.png'>"
      ]
    },
    {
      "cell_type": "markdown",
      "metadata": {
        "id": "M2IMLMODFlIX"
      },
      "source": [
        "# <font color='red' style='font-size: 30px;'>2.3 Dispersión entre las Variables</font>\n",
        "<hr style='border: 2px solid red;'>"
      ]
    },
    {
      "cell_type": "markdown",
      "metadata": {
        "id": "chLIf6CxFlIY"
      },
      "source": [
        "## Gráficos de dispersión entre las variables del dataset"
      ]
    },
    {
      "cell_type": "markdown",
      "metadata": {
        "id": "ZS00xz_0FlIY"
      },
      "source": [
        "## seaborn.pairplot\n",
        "\n",
        "https://seaborn.pydata.org/generated/seaborn.pairplot.html?highlight=pairplot#seaborn.pairplot\n",
        "\n",
        "<p style='font-size: 18px; line-height: 2; margin: 10px 50px; text-align: justify;'>Grafica la relación entre pares de variables en un dataset.</p>"
      ]
    },
    {
      "cell_type": "code",
      "metadata": {
        "id": "YvYbQSomFlIZ",
        "outputId": "6864cdf2-df0b-4123-cc93-5629dc6ea5a7",
        "colab": {
          "base_uri": "https://localhost:8080/",
          "height": 567
        }
      },
      "source": [
        "ax = sns.pairplot(datos, y_vars='Valor', x_vars=['Area', 'Dist_Playa', 'Dist_Farmacia'], height=5)\n",
        "ax.fig.suptitle('Dispersión entre las Variables', fontsize=20, y=1.05)\n",
        "ax"
      ],
      "execution_count": 15,
      "outputs": [
        {
          "output_type": "execute_result",
          "data": {
            "text/plain": [
              "<seaborn.axisgrid.PairGrid at 0x7cf221452810>"
            ]
          },
          "metadata": {},
          "execution_count": 15
        },
        {
          "output_type": "display_data",
          "data": {
            "text/plain": [
              "<Figure size 1500x500 with 3 Axes>"
            ],
            "image/png": "[encoded data removed]"
          },
          "metadata": {}
        }
      ]
    },
    {
      "cell_type": "code",
      "metadata": {
        "id": "QWHOTj98FlIZ",
        "outputId": "3cea162c-a00f-4aed-fb5c-0aa07f37cec1",
        "colab": {
          "base_uri": "https://localhost:8080/",
          "height": 567
        }
      },
      "source": [
        "ax = sns.pairplot(datos, y_vars='Valor', x_vars=['Area', 'Dist_Playa', 'Dist_Farmacia'], height=5, kind='reg')\n",
        "ax.fig.suptitle('Dispersión entre las Variables', fontsize=20, y=1.05)\n",
        "ax"
      ],
      "execution_count": 16,
      "outputs": [
        {
          "output_type": "execute_result",
          "data": {
            "text/plain": [
              "<seaborn.axisgrid.PairGrid at 0x7cf22102ee10>"
            ]
          },
          "metadata": {},
          "execution_count": 16
        },
        {
          "output_type": "display_data",
          "data": {
            "text/plain": [
              "<Figure size 1500x500 with 3 Axes>"
            ],
            "image/png": "[encoded data removed]"
          },
          "metadata": {}
        }
      ]
    },
    {
      "cell_type": "markdown",
      "metadata": {
        "id": "BWreZOVxFlIa"
      },
      "source": [
        "# <font color='red' style='font-size: 30px;'>3.1 Transformando los Datos</font>\n",
        "<hr style='border: 2px solid red;'>"
      ]
    },
    {
      "cell_type": "markdown",
      "metadata": {
        "id": "fVfTIM3MFlIa"
      },
      "source": [
        "## Distribuición Normal\n",
        "<hr>\n",
        "\n",
        "### ¿Porque?\n",
        "<p style='font-size: 18px; line-height: 2; margin: 10px 50px; text-align: justify;'>Tests paramétricos asumen que los datos muestrales se recopilaron de una población con una distribución de probabilidad conocida. Muchos de los tests estadísticos asumen que los datos siguen una distribución normal (t de Student, intervalos de confianza, etc.).</p>\n",
        "\n",
        "\n",
        "\n",
        "\n",
        "\n",
        "<p style='font-size: 18px; line-height: 2; margin: 10px 50px; text-align: justify;'></p>\n",
        "<p style='font-size: 18px; line-height: 2; margin: 10px 50px; text-align: justify;'></p>\n",
        "<p style='font-size: 18px; line-height: 2; margin: 10px 50px; text-align: justify;'></p>\n",
        "<p style='font-size: 18px; line-height: 2; margin: 10px 50px; text-align: justify;'></p>\n",
        "<p style='font-size: 18px; line-height: 2; margin: 10px 50px; text-align: justify;'></p>\n",
        "<p style='font-size: 18px; line-height: 2; margin: 10px 50px; text-align: justify;'></p>\n",
        "<p style='font-size: 18px; line-height: 2; margin: 10px 50px; text-align: justify;'></p>\n",
        "<p style='font-size: 18px; line-height: 2; margin: 10px 50px; text-align: justify;'></p>"
      ]
    },
    {
      "cell_type": "markdown",
      "metadata": {
        "id": "si5MILrIFlIc"
      },
      "source": [
        "## Importando la biblioteca numpy"
      ]
    },
    {
      "cell_type": "code",
      "metadata": {
        "id": "U7FjDKgCFlIc"
      },
      "source": [],
      "execution_count": null,
      "outputs": []
    },
    {
      "cell_type": "markdown",
      "metadata": {
        "id": "GaTxpBGqFlIe"
      },
      "source": [
        "## Aplicando la transformación logarítmica a los datos del *dataset*\n",
        "\n",
        "https://docs.scipy.org/doc/numpy-1.15.0/reference/generated/numpy.log.html"
      ]
    },
    {
      "cell_type": "code",
      "metadata": {
        "id": "AJr7NUQnFlIf"
      },
      "source": [],
      "execution_count": null,
      "outputs": []
    },
    {
      "cell_type": "code",
      "metadata": {
        "id": "tyoDbAntFlIg"
      },
      "source": [],
      "execution_count": null,
      "outputs": []
    },
    {
      "cell_type": "code",
      "metadata": {
        "id": "XLbST4UlFlIh"
      },
      "source": [],
      "execution_count": null,
      "outputs": []
    },
    {
      "cell_type": "markdown",
      "metadata": {
        "id": "HcMKHQ43FlIh"
      },
      "source": [
        "## Distribuición de frecuencias de la variable *dependiente transformada* (y)"
      ]
    },
    {
      "cell_type": "code",
      "metadata": {
        "id": "6jbHSPU5FlIi"
      },
      "source": [
        "\n",
        "ax.figure.set_size_inches(12, 6)\n",
        "ax.set_title('Distribuición de Frecuencias', fontsize=20)\n",
        "ax.set_xlabel('log del Precio de los Inmuebles', fontsize=16)\n",
        "ax"
      ],
      "execution_count": null,
      "outputs": []
    },
    {
      "cell_type": "markdown",
      "metadata": {
        "id": "Bej9N97WFlIj"
      },
      "source": [
        "# <font color='red' style='font-size: 30px;'>3.2 Comprobando relación lineal</font>\n",
        "<hr style='border: 2px solid red;'>"
      ]
    },
    {
      "cell_type": "markdown",
      "metadata": {
        "id": "99Y297ffFlIj"
      },
      "source": [
        "## Gráficos de dispersión entre las variables transformadas del dataset"
      ]
    },
    {
      "cell_type": "code",
      "metadata": {
        "id": "NoavoKj7FlIk"
      },
      "source": [
        "\n",
        "ax.fig.suptitle('Dispersión entre las Variables Transformadas', fontsize=20, y=1.05)\n",
        "ax"
      ],
      "execution_count": null,
      "outputs": []
    },
    {
      "cell_type": "markdown",
      "metadata": {
        "id": "7UYBlM0cFlIl"
      },
      "source": [
        "# <font color='red' style='font-size: 30px;'>4.1 Creando los *Datasets* de Entrenamiento y Prueba</font>\n",
        "<hr style='border: 2px solid red;'>"
      ]
    },
    {
      "cell_type": "markdown",
      "metadata": {
        "id": "Qf-pVs7cFlIl"
      },
      "source": [
        "## Importando *train_test_split* de la biblioteca *scikit-learn*\n",
        "\n",
        "https://scikit-learn.org/stable/modules/generated/sklearn.model_selection.train_test_split.html"
      ]
    },
    {
      "cell_type": "code",
      "metadata": {
        "id": "hfG4_yfxFlIm"
      },
      "source": [],
      "execution_count": null,
      "outputs": []
    },
    {
      "cell_type": "markdown",
      "metadata": {
        "id": "YBWiZJFzFlIn"
      },
      "source": [
        "## Creando una Series (pandas) para almacenar el Precio de los Inmubles (y)"
      ]
    },
    {
      "cell_type": "code",
      "metadata": {
        "id": "J0xGjm9KFlIn"
      },
      "source": [],
      "execution_count": null,
      "outputs": []
    },
    {
      "cell_type": "markdown",
      "metadata": {
        "id": "e11VFTQtFlIo"
      },
      "source": [
        "## Creando un DataFrame (pandas) para almacenar las variables explicativas (X)"
      ]
    },
    {
      "cell_type": "code",
      "metadata": {
        "id": "5wgglZ0pFlIp"
      },
      "source": [],
      "execution_count": null,
      "outputs": []
    },
    {
      "cell_type": "markdown",
      "metadata": {
        "id": "vvgWRJUTFlIp"
      },
      "source": [
        "## Creando los datasets de entrenamiento y de prueba"
      ]
    },
    {
      "cell_type": "code",
      "metadata": {
        "id": "6ZRus0zkFlIq"
      },
      "source": [],
      "execution_count": null,
      "outputs": []
    },
    {
      "cell_type": "markdown",
      "metadata": {
        "id": "AkU2ApotFlIq"
      },
      "source": [
        "# Regresión Lineal\n",
        "<hr>\n",
        "\n",
        "<p style='font-size: 20px; line-height: 2; margin: 10px 50px; text-align: justify;'>El análisis de regresión se refiere al estudio de la dependencia de una variable (la variable <b> dependiente </b>) en relación con una o más variables (las variables <b> explicativas </b>) con el fin de estimar y/o predecir el valor medio de la primera en términos de los valores conocidos o fijos de estas últimas.</p>\n",
        "\n",
        "\n",
        "## scikit-learn (https://scikit-learn.org/stable/)\n",
        "\n",
        "<p style='font-size: 20px; line-height: 2; margin: 10px 50px; text-align: justify;'>El *scikit-learn* es un módulo de Python especializado en soluciones para *machine learning*.</p>\n",
        "\n"
      ]
    },
    {
      "cell_type": "markdown",
      "metadata": {
        "id": "Kt9voGShFlIr"
      },
      "source": [
        "<img width='800px' src='https://caelum-online-public.s3.amazonaws.com/ESP-1803-regresion-lineal-tecnicas-avanzadas-modelado/Log-lineal.png'>"
      ]
    },
    {
      "cell_type": "markdown",
      "metadata": {
        "id": "NYfMvfuWFlIs"
      },
      "source": [
        "## Importando la biblioteca statsmodels\n",
        "\n",
        "https://www.statsmodels.org/stable/index.html"
      ]
    },
    {
      "cell_type": "code",
      "metadata": {
        "id": "tIMBPcUHFlIs"
      },
      "source": [],
      "execution_count": null,
      "outputs": []
    },
    {
      "cell_type": "markdown",
      "metadata": {
        "id": "bOWUkv7-FlIt"
      },
      "source": [
        "## Estimando el modelo con statsmodels"
      ]
    },
    {
      "cell_type": "code",
      "metadata": {
        "id": "I-T1gWLtFlIt"
      },
      "source": [],
      "execution_count": null,
      "outputs": []
    },
    {
      "cell_type": "code",
      "metadata": {
        "scrolled": true,
        "id": "v_v702wxFlIu"
      },
      "source": [],
      "execution_count": null,
      "outputs": []
    },
    {
      "cell_type": "code",
      "metadata": {
        "id": "XoAQ3E2bFlIv"
      },
      "source": [],
      "execution_count": null,
      "outputs": []
    },
    {
      "cell_type": "markdown",
      "metadata": {
        "id": "aYw43OG6FlIw"
      },
      "source": [
        "# <font color='red' style='font-size: 30px;'>4.2 Evaluando el Modelo Estimado</font>\n",
        "<hr style='border: 2px solid red;'>"
      ]
    },
    {
      "cell_type": "markdown",
      "metadata": {
        "id": "VnMATAGeFlIx"
      },
      "source": [
        "## Evaluando las estadísticas de prueba del modelo\n",
        "\n",
        "### Test de significancia conjunta de los parámetros\n",
        "<p style='font-size: 20px; line-height: 2; margin: 10px 50px; text-align: justify;'>Prob (F-statistic) <= 0.05 (<b>OK</b>)</p>\n",
        "\n",
        "### Test de significancia individual de los parámetros\n",
        "<p style='font-size: 20px; line-height: 2; margin: 10px 50px; text-align: justify;'>P>|t| <= 0.05 (<b>OK</b>)</p>"
      ]
    },
    {
      "cell_type": "code",
      "metadata": {
        "id": "GS1sjGx0FlIx"
      },
      "source": [],
      "execution_count": null,
      "outputs": []
    },
    {
      "cell_type": "markdown",
      "metadata": {
        "id": "x8w4ivpeFlIy"
      },
      "source": [
        "# <font color='red' style='font-size: 30px;'>4.3 Modificando el modelo y reevaluando el ajuste</font>\n",
        "<hr style='border: 2px solid red;'>"
      ]
    },
    {
      "cell_type": "markdown",
      "metadata": {
        "id": "uhpy3ErcFlIy"
      },
      "source": [
        "## Creando un nuevo conjunto de variables explicativas (X)"
      ]
    },
    {
      "cell_type": "code",
      "metadata": {
        "id": "bcF9MhP5FlIz"
      },
      "source": [],
      "execution_count": null,
      "outputs": []
    },
    {
      "cell_type": "markdown",
      "metadata": {
        "id": "v1IkLVSgFlIz"
      },
      "source": [
        "## Creando los datasets de entrenamiento y de prueba"
      ]
    },
    {
      "cell_type": "code",
      "metadata": {
        "id": "hk1WGDViFlI0"
      },
      "source": [],
      "execution_count": null,
      "outputs": []
    },
    {
      "cell_type": "markdown",
      "metadata": {
        "id": "FoQisi3yFlI0"
      },
      "source": [
        "## Estimando el modelo con el statsmodels"
      ]
    },
    {
      "cell_type": "code",
      "metadata": {
        "id": "TkehwcthFlI1"
      },
      "source": [],
      "execution_count": null,
      "outputs": []
    },
    {
      "cell_type": "code",
      "metadata": {
        "id": "96zm2IIjFlI1"
      },
      "source": [],
      "execution_count": null,
      "outputs": []
    },
    {
      "cell_type": "markdown",
      "metadata": {
        "id": "ddYClVtwFlI2"
      },
      "source": [
        "## Evaluando las estadísticas de prueba para el nuevo modelo\n",
        "\n",
        "### Test de significancia conjunta de los parámetros\n",
        "<p style='font-size: 20px; line-height: 2; margin: 10px 50px; text-align: justify;'>Prob (F-statistic) <= 0.05 (<b>OK</b>)</p>\n",
        "\n",
        "### Test de significancia individual de los parámetros\n",
        "<p style='font-size: 20px; line-height: 2; margin: 10px 50px; text-align: justify;'>P>|t| <= 0.05 (<b>OK</b>)</p>"
      ]
    },
    {
      "cell_type": "code",
      "metadata": {
        "id": "nojd89fQFlI2"
      },
      "source": [],
      "execution_count": null,
      "outputs": []
    },
    {
      "cell_type": "markdown",
      "metadata": {
        "id": "65G1o0WAFlI2"
      },
      "source": [
        "# <font color='red' style='font-size: 30px;'>5.1 Estimando el Modelo con los Datos de Entrenamiento</font>\n",
        "<hr style='border: 2px solid red;'>"
      ]
    },
    {
      "cell_type": "markdown",
      "metadata": {
        "id": "nnXWXnkZFlI3"
      },
      "source": [
        "## Importando *LinearRegression* y *metrics* da la biblioteca *scikit-learn*\n",
        "\n",
        "https://scikit-learn.org/stable/modules/generated/sklearn.linear_model.LinearRegression.html\n",
        "\n",
        "https://scikit-learn.org/stable/modules/classes.html#regression-metrics"
      ]
    },
    {
      "cell_type": "code",
      "metadata": {
        "id": "JwOrTWS8FlI3"
      },
      "source": [],
      "execution_count": null,
      "outputs": []
    },
    {
      "cell_type": "markdown",
      "metadata": {
        "id": "1vCaX_54FlI4"
      },
      "source": [
        "## Instanciando la clase *LinearRegression()*"
      ]
    },
    {
      "cell_type": "code",
      "metadata": {
        "id": "s5ZGfuSIFlI4"
      },
      "source": [],
      "execution_count": null,
      "outputs": []
    },
    {
      "cell_type": "markdown",
      "metadata": {
        "id": "NTiVG8AvFlI4"
      },
      "source": [
        "## Utilizando el método *fit()* del objeto \"modelo\" para estimar nuestro modelo lineal con los datos de ENTRENAMIENTO (y_train y X_train)\n",
        "\n",
        "https://scikit-learn.org/stable/modules/generated/sklearn.linear_model.LinearRegression.html#sklearn.linear_model.LinearRegression.fit"
      ]
    },
    {
      "cell_type": "code",
      "metadata": {
        "id": "xnb7y6icFlI5"
      },
      "source": [],
      "execution_count": null,
      "outputs": []
    },
    {
      "cell_type": "markdown",
      "metadata": {
        "id": "FZKLpWcXFlI5"
      },
      "source": [
        "## Obteniendo el coeficiente de determinación (R²) del modelo estimado con los datos de ENTRENAMIENTO\n",
        "\n",
        "\n",
        "https://scikit-learn.org/stable/modules/generated/sklearn.linear_model.LinearRegression.html#sklearn.linear_model.LinearRegression.score\n",
        "\n",
        "### Coeficiente de Determinación - R²\n",
        "\n",
        "El coeficiente de determinación (R²) es una medida de resumen que indica cuánto se ajusta la recta de regresión a los datos. Es un valor entre 0 y 1.\n",
        "\n",
        "\n",
        "$$R^2(y, \\hat{y}) = 1 - \\frac {\\sum_{i=0}^{n-1}(y_i-\\hat{y}_i)^2}{\\sum_{i=0}^{n-1}(y_i-\\bar{y}_i)^2}$$"
      ]
    },
    {
      "cell_type": "code",
      "metadata": {
        "id": "cu_pADGtFlI6"
      },
      "source": [],
      "execution_count": null,
      "outputs": []
    },
    {
      "cell_type": "markdown",
      "metadata": {
        "id": "XMcKya5UFlI6"
      },
      "source": [
        "## Generando predicciones para los datos de PRUEBA (X_test) con el método *predict()* del objeto \"modelo\"\n",
        "\n",
        "https://scikit-learn.org/stable/modules/generated/sklearn.linear_model.LinearRegression.html#sklearn.linear_model.LinearRegression.predict"
      ]
    },
    {
      "cell_type": "code",
      "metadata": {
        "id": "15_BOdC-FlI6"
      },
      "source": [],
      "execution_count": null,
      "outputs": []
    },
    {
      "cell_type": "markdown",
      "metadata": {
        "id": "Dzxt0-odFlI7"
      },
      "source": [
        "## Obteniendo el coeficiente de determinación (R²) para las predicciones del nuestro modelo\n",
        "\n",
        "https://scikit-learn.org/stable/modules/generated/sklearn.metrics.r2_score.html#sklearn.metrics.r2_score"
      ]
    },
    {
      "cell_type": "code",
      "metadata": {
        "id": "QCkRncKgFlI7"
      },
      "source": [],
      "execution_count": null,
      "outputs": []
    },
    {
      "cell_type": "markdown",
      "metadata": {
        "id": "xvDagBLnFlI8"
      },
      "source": [
        "# <font color='red' style='font-size: 30px;'>5.2 Obteniendo Predicciones Puntuales</font>\n",
        "<hr style='border: 2px solid red;'>"
      ]
    },
    {
      "cell_type": "markdown",
      "metadata": {
        "id": "DDqic2OHFlI9"
      },
      "source": [
        "## Datos de entrada"
      ]
    },
    {
      "cell_type": "code",
      "metadata": {
        "id": "NieywCxIFlI9"
      },
      "source": [],
      "execution_count": null,
      "outputs": []
    },
    {
      "cell_type": "markdown",
      "metadata": {
        "id": "P1n4Fm2gFlI_"
      },
      "source": [
        "## Generando predicción puntual"
      ]
    },
    {
      "cell_type": "code",
      "metadata": {
        "id": "BFgZvzOtFlJA"
      },
      "source": [],
      "execution_count": null,
      "outputs": []
    },
    {
      "cell_type": "markdown",
      "metadata": {
        "id": "Jm71jz3YFlJB"
      },
      "source": [
        "## Invirtiendo la transformación para obtener la estimación en US$\n",
        "\n",
        "https://docs.scipy.org/doc/numpy-1.15.0/reference/generated/numpy.exp.html"
      ]
    },
    {
      "cell_type": "code",
      "metadata": {
        "id": "iBoJJmyFFlJB"
      },
      "source": [],
      "execution_count": null,
      "outputs": []
    },
    {
      "cell_type": "markdown",
      "metadata": {
        "id": "QyBhYwjkFlJC"
      },
      "source": [
        "## Creando un simulador simple"
      ]
    },
    {
      "cell_type": "code",
      "metadata": {
        "id": "qNSQJXz4FlJD"
      },
      "source": [],
      "execution_count": null,
      "outputs": []
    },
    {
      "cell_type": "markdown",
      "metadata": {
        "id": "Y0jPocXvFlJE"
      },
      "source": [
        "# <font color='red' style='font-size: 30px;'>5.3 Interpretación de los Coeficientes Estimados</font>\n",
        "<hr style='border: 2px solid red;'>"
      ]
    },
    {
      "cell_type": "markdown",
      "metadata": {
        "id": "qoEM_aS7FlJF"
      },
      "source": [
        "### Obteniendo el intercepto del modelo\n",
        "\n",
        "<p style='font-size: 20px; line-height: 2; margin: 10px 50px; text-align: justify;'>El <b> intercepto </b> representa el efecto medio en $ Y $ (Precio del Inmueble) con todas las variables explicativas excluidas del modelo. En el caso del modelo log-lineal, este coeficiente debe ser transformado utilizando la función exponencial para que sea presentado en US$.</p>"
      ]
    },
    {
      "cell_type": "code",
      "metadata": {
        "id": "oOrgT4i5FlJG"
      },
      "source": [],
      "execution_count": null,
      "outputs": []
    },
    {
      "cell_type": "code",
      "metadata": {
        "id": "2s-kTQnXFlJI"
      },
      "source": [],
      "execution_count": null,
      "outputs": []
    },
    {
      "cell_type": "markdown",
      "metadata": {
        "id": "Iv2UUxUyFlJJ"
      },
      "source": [
        "## Obteniendo los coeficientes de regresión\n",
        "\n",
        "<p style='font-size: 20px; line-height: 2; margin: 10px 50px; text-align: justify;'>Los <b> coeficientes de regresión </b> $\\beta_2$ y $\\beta_3 $ son conocidos como <b> coeficientes de regresión parciales </b> o <b> coeficientes angulares parciales </b>  </p>\n",
        "\n",
        "<p style='font-size: 20px; line-height: 2; margin: 10px 50px; text-align: justify;'>Un aspecto interesante del modelo log-lineal, que lo ha hecho ampliamente utilizado en estudios aplicados, es que los coeficientes angulares $\\beta_2$ y $\\beta_3$ miden las elasticidades de Y en relación a $X_2$ y $X_3$, es decir, la variación porcentual de Y correspondiente a una variación porcentual dada (pequeña ) en $X_2$ y $X_3$.</p>"
      ]
    },
    {
      "cell_type": "code",
      "metadata": {
        "id": "qY9rpCWAFlJJ"
      },
      "source": [],
      "execution_count": null,
      "outputs": []
    },
    {
      "cell_type": "markdown",
      "metadata": {
        "id": "EzYQZ6l0FlJK"
      },
      "source": [
        "## Confirmando el orden de las variables explicativas en el DataFrame"
      ]
    },
    {
      "cell_type": "code",
      "metadata": {
        "id": "i9jhC5OLFlJL"
      },
      "source": [],
      "execution_count": null,
      "outputs": []
    },
    {
      "cell_type": "markdown",
      "metadata": {
        "id": "SCecFxJuFlJM"
      },
      "source": [
        "## Creando una lista de nombres de las variables del modelo"
      ]
    },
    {
      "cell_type": "code",
      "metadata": {
        "id": "CiCdHryLFlJN"
      },
      "source": [],
      "execution_count": null,
      "outputs": []
    },
    {
      "cell_type": "markdown",
      "metadata": {
        "id": "xb-Wqy6oFlJO"
      },
      "source": [
        "## Creando un DataFrame para almacenar los coeficientes del modelo\n",
        "\n",
        "https://docs.scipy.org/doc/numpy/reference/generated/numpy.append.html?#numpy.append"
      ]
    },
    {
      "cell_type": "code",
      "metadata": {
        "scrolled": true,
        "id": "1LG5iTvkFlJP"
      },
      "source": [],
      "execution_count": null,
      "outputs": []
    },
    {
      "cell_type": "markdown",
      "metadata": {
        "id": "NCtSpi7PFlJQ"
      },
      "source": [
        "## Interpretación de los Coeficientes Estimados\n",
        "\n",
        "<p style='font-size: 20px; line-height: 2; margin: 10px 50px; text-align: justify;'>\n",
        "<b>Intercepto</b> →  Excluyendo el efecto de las variables explicativas ($X_2=X_3=0$), el efecto medio en el Precio de los Inmuebles seria <b>US$ 2.093,66</b> (exp[7.646667]).\n",
        "</p>\n",
        "\n",
        "<p style='font-size: 20px; line-height: 2; margin: 10px 50px; text-align: justify;'>\n",
        "<b>Área (m²)</b> → Manteniendo constante el valor de $X_3$ (Distancia a la Playa), la adición de 1% en el Área de un inmueble genera, en promedio, un aumento de <b>1.06%</b> en el Precio del Inmueble.\n",
        "</p>\n",
        "\n",
        "<p style='font-size: 20px; line-height: 2; margin: 10px 50px; text-align: justify;'>\n",
        "<b>Distancia a la playa (km)</b> → Manteniendo constante el valor de $X_2$ (Área), la adición de 1% en la Distancia de un inmueble a la playa genera, en promedio, una disminución de <b>0.49%</b> en el Precio del Inmueble.\n",
        "</p>"
      ]
    },
    {
      "cell_type": "markdown",
      "metadata": {
        "id": "X5vyx8xWFlJR"
      },
      "source": [
        "# <font color='red' style='font-size: 30px;'>5.4 Análisis Gráfico de los Resultados del Modelo</font>\n",
        "<hr style='border: 2px solid red;'>"
      ]
    },
    {
      "cell_type": "markdown",
      "metadata": {
        "id": "Yd_r1SRpFlJS"
      },
      "source": [
        "## Generando predicciones del modelo para los datos de ENTRENAMIENTO"
      ]
    },
    {
      "cell_type": "code",
      "metadata": {
        "id": "Uo8BoQK-FlJT"
      },
      "source": [],
      "execution_count": null,
      "outputs": []
    },
    {
      "cell_type": "markdown",
      "metadata": {
        "id": "xcGDDFeSFlJU"
      },
      "source": [
        "## Gráfico de dispersión entre valor estimado y valor real\n",
        "\n",
        "https://seaborn.pydata.org/generated/seaborn.scatterplot.html"
      ]
    },
    {
      "cell_type": "code",
      "metadata": {
        "id": "FIMkX3_cFlJU"
      },
      "source": [
        "\n",
        "ax.figure.set_size_inches(12, 6)\n",
        "ax.set_title('Predicción X Real', fontsize=18)\n",
        "ax.set_xlabel('log del Precio - Predicción', fontsize=14)\n",
        "ax.set_ylabel('log del Precio - Real', fontsize=14)\n",
        "ax"
      ],
      "execution_count": null,
      "outputs": []
    },
    {
      "cell_type": "markdown",
      "metadata": {
        "id": "xnSLXlTkFlJV"
      },
      "source": [
        "## Obteniendo los residuos"
      ]
    },
    {
      "cell_type": "code",
      "metadata": {
        "id": "XFTqf-ziFlJW"
      },
      "source": [],
      "execution_count": null,
      "outputs": []
    },
    {
      "cell_type": "markdown",
      "metadata": {
        "id": "vxW3vZtyFlJX"
      },
      "source": [
        "## Graficando la distribuición de frecuencias de los residuos"
      ]
    },
    {
      "cell_type": "code",
      "metadata": {
        "id": "TgDZ_BlQFlJY"
      },
      "source": [
        "\n",
        "ax.figure.set_size_inches(12, 6)\n",
        "ax.set_title('Distribuición de Frecuencias de los Residuos', fontsize=18)\n",
        "ax.set_xlabel('log del Precio', fontsize=14)\n",
        "ax"
      ],
      "execution_count": null,
      "outputs": []
    }
  ]
}